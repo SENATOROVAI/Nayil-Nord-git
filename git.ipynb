"""Git Commands Reference."""
# Git Commands Reference

## Basic Git Setup and Configuration

```bash
# Check Git version
git --version

# Configure user info
git config --global user.name "Your Name"
git config --global user.email "your.email@example.com"

# View configuration
git config --list
```

## Creating a New Repository

```bash
# Initialize new repository
git init

# Check repository status
git status
```

## Adding and Committing Files

```bash
# Add specific files
git add filename.txt

# Add all files
git add .

# Commit with message
git commit -m "Initial commit"

# Add and commit modified files in one command
git commit -am "Update message"
```

## Working with Remote Repositories

```bash
# Add remote repository
git remote add origin https://github.com/username/repository.git

# Push to remote repository first time
git push -u origin main

# Subsequent pushes
git push

# Clone existing repository
git clone https://github.com/username/repository.git
```

## File Operations

```bash
# Remove file from Git and filesystem
git rm filename.txt
git commit -m "Remove filename.txt"

# Rename or move file
git mv oldname.txt newname.txt
git commit -m "Rename file"
```

## Viewing Changes

```bash
# View uncommitted changes
git diff

# View commit history
git log

# View simplified commit history
git log --oneline

# View last N commits
git log --oneline -n 3
```

## Undoing Changes

```bash
# Discard changes in working directory
git restore filename.txt

# Unstage files
git restore --staged filename.txt

# Revert last N commits
git revert -n HEAD~N..HEAD

# Return file to specific commit version
git checkout commit_hash -- filename.txt
```

## Practical Implementation Steps

1. Create new repository on GitHub named "yourlogingit-git"
2. Clone repository locally
3. Create git.ipynb file
4. Add commands documentation
5. Commit and push changes

Remember to include .gitignore file for Python:
```
__pycache__/
*.py[cod]
*$py.class
```
